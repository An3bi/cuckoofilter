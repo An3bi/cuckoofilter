{
 "cells": [
  {
   "cell_type": "markdown",
   "metadata": {},
   "source": [
    "# Cuckoo Filter "
   ]
  },
  {
   "cell_type": "markdown",
   "metadata": {},
   "source": [
    "### Probabilistic Data Structures\n",
    "Probabilistic data structures are an important class of data structures that are useful in a variety of applications, particularly in streaming applications and cases that require a  significant amount of space. In general, data structures help organize data so that queries about the  data stored in them can be answered efficiently. Often, these data structures provide exact answers to queries posed about data stored in them. In contrast, probabilistic data structures do not provide exact answers to queries about data stored in them; they typically provide probabilistic estimates to these queries about constituent data. "
   ]
  },
  {
   "cell_type": "markdown",
   "metadata": {},
   "source": [
    "### Illustrative Example\n",
    "To illustrate this point, we will look at the popular use case of testing to see whether an item in a\n",
    "stream of data has been encountered before; membership testing. In the standard case where the data to \n",
    "be analyzed is small enough to fit into memory, each data encountered in the stream can be inserted into\n",
    "a set data structure. Once we hit an item we would like to test, we can check to see if it is in the set. \n",
    "This approach works when the data stream is small enough to fit \n",
    "into available memory. However, when we have more data than can fit into memory, it might be cumbersome \n",
    "or impossible to use a set for the membership query. Probabilistic data structures are designed to take \n",
    "advantage of such situations. Often in computer science, there is a trade-off between time-efficiency \n",
    "and the amount of space used. Probabilistic data structures trade off space for exact answers to queries \n",
    "about data stored in them. "
   ]
  },
  {
   "cell_type": "markdown",
   "metadata": {},
   "source": [
    "### Bloom filter\n",
    "For the membership query described above, the bloom filter is an example of a probabilistic data \n",
    "structure that can provide answers to this query without storing all of the data in a stream. The bloom \n",
    "filter leverages hash functions to encode items compactly in an array. Encoded values derived from \n",
    "hashing an item to be inserted into a bloom filter can then be used as indices of an array mapping to such data. These \n",
    "corresponding indices are then set to indicate that the item has been inserted. Now to check if an item \n",
    "has been seen before, the item is hashed and mapped to its expected indices. The obtained indices are \n",
    "then checked to see if the values have been set. If all the values have set, then one can say the item \n",
    "might have been seen before. However, if any of the values are not set, one can say definitely, that the \n",
    "item in question has not been seen before. Hence, membership testing using bloom filters can lead to \n",
    "false positives, however, it eliminates false negatives. "
   ]
  },
  {
   "cell_type": "markdown",
   "metadata": {},
   "source": [
    "Depending on the capacity (size), number of hash functions, and other specifications for the bloom filter, the false positive rate of a bloom filter can actually be bounded. Traditional bloom filters do not support deletions, since hashing is typically lossy and irreversible; hence deletions or specific manipulations require the entire filter to be rebuilt. However, there have been several modifications proposed that modify traditional bloom filters to allow for deletions, unions, and other set operations. One such example is the counting bloom filter, which extends the bloom filter to allow for deletions. At Fast Forward Labs, bloom filters and a variety of other probabilistic data structures were explored in detail in the report, \"Probabilistic Methods for Real-time Streams.\""
   ]
  },
  {
   "cell_type": "markdown",
   "metadata": {},
   "source": []
  },
  {
   "cell_type": "markdown",
   "metadata": {},
   "source": [
    "### Overview of cuckoo filter\n",
    "In this blog post, we focus on a more recent development: the \n",
    "cuckoo filter. The cuckoo filter was introduced in a 2014 paper \n",
    "as a possible replacement for the bloom filter. It is designed to target applications that store a high number of items with a low false positive rate. Further, the standard cuckoo filter supports dynamic additions and deletions. As noted above, bloom filters \n",
    "need to be extended in order to support deletions. An added \n",
    "advantage of the bloom filter is that optimized implementations \n",
    "use less space than bloom filters while still maintaining low \n",
    "positive rates.\n",
    "\n",
    "\n",
    "\n",
    "The cuckoo filter is backed by a cuckoo hash table and only \n",
    "stores fingerprints of items inserted. The fingerprint of an item \n",
    "is a reduced bit string derived from the hash of an item to be \n",
    "inserted in the cuckoo filter. A cuckoo hash table \"consists of \n",
    "an array of buckets\" where an item to be inserted is mapped to \n",
    "two possible buckets based on two hash functions. Each bucket in \n",
    "the cuckoo hash table can be configured to store a variable \n",
    "number of fingerprints depending on the space and false positive \n",
    "considerations desired. Typically, a cuckoo filter is identified \n",
    "by the its fingerprint size and bucket size. For example, a (2,4)\n",
    "cuckoo filter stores 2 bit length fingerprints and each bucket in\n",
    "the cuckoo hash table can store up to 4 fingerprints. To \n",
    "initialize a cuckoo filter, one specifies the capacity of \n",
    "desired, the fingerprint size, and the size of the bucket in \n",
    "each array."
   ]
  },
  {
   "cell_type": "code",
   "execution_count": null,
   "metadata": {
    "collapsed": true
   },
   "outputs": [],
   "source": []
  },
  {
   "cell_type": "markdown",
   "metadata": {},
   "source": [
    "As noted in the 2014 paper (cite), the cuckoo filter supports \n",
    "the standard insert, lookup, and delete operations. Of all these \n",
    "operations, the insert operation is most involved. A pseudo code \n",
    "of the insert operation is shown below:"
   ]
  },
  {
   "cell_type": "markdown",
   "metadata": {},
   "source": [
    "{pseudocode for inserting into the cuckoo table}"
   ]
  },
  {
   "cell_type": "markdown",
   "metadata": {},
   "source": [
    "As indicated in the algorithm above, to insert an item into the \n",
    "cuckoo filter, one derives two possible indices from the item \n",
    "based on hashing the item and its fingerprint. On obtaining these \n",
    "indices, one then inserts the item fingerprint into one of the \n",
    "above buckets. As the cuckoo hash table begins to fill up, one \n",
    "can encounter a situation where the two possible indices where an \n",
    "item can be inserted has been filled, in this case, inserted \n",
    "items can then be swapped into other buckets to free up space for \n",
    "a new item. As the cuckoo hash table fills up to capacity, more \n",
    "items would need to be swapped. To prevent infinite swapping when \n",
    "the cuckoo table fills up, one can limit the swapping to be performed.\n",
    "This number is typically between 400 and 500. "
   ]
  },
  {
   "cell_type": "code",
   "execution_count": null,
   "metadata": {
    "collapsed": true
   },
   "outputs": [],
   "source": []
  },
  {
   "cell_type": "markdown",
   "metadata": {},
   "source": [
    "Lookup and deletions from a cuckoo filter are relatively \n",
    "straightforward. To check if an item is in the filter, the item \n",
    "is hashed to obtain its fingerprint, and 2 candidate indices. \n",
    "Consequently, each index location is check to see if the \n",
    "fingerprint of the item is present in the bucket. Deletion \n",
    "follows a similar process, but the item's fingerprint is removed \n",
    "from the bucket if it is present. "
   ]
  },
  {
   "cell_type": "code",
   "execution_count": null,
   "metadata": {
    "collapsed": true
   },
   "outputs": [],
   "source": []
  },
  {
   "cell_type": "markdown",
   "metadata": {},
   "source": [
    "## Bench Marking against counting bloom filter\n",
    "\n",
    "To explore the properties of the cuckoo filter, we implemented a \n",
    "version of the filter in python. We compare the behavior of this \n",
    "filter to a counting bloom filter implementation in python as \n",
    "well. While benchmarking is often with fraught with \n",
    "intricacies, we present the comparison here to demonstrate the \n",
    "capabilities of the cuckoo filter relative to the counting bloom \n",
    "filter. For more rigorous benchmarking take a look at the \n",
    "referenced paper. "
   ]
  },
  {
   "cell_type": "markdown",
   "metadata": {},
   "source": [
    "### Graph of insetion time\n",
    "\n",
    "### Graph of sizes for different inserts\n",
    "\n",
    "### false positive for different sizes, extreme case when it is almost full as well. \n",
    "\n",
    "### total size benchmark graph"
   ]
  },
  {
   "cell_type": "code",
   "execution_count": null,
   "metadata": {
    "collapsed": true
   },
   "outputs": [],
   "source": []
  },
  {
   "cell_type": "markdown",
   "metadata": {},
   "source": [
    "As shown in the different graphs above, the cuckoo filter has several advantages compared to standard bloom filters.\n",
    "Despite these advantages cuckoo filters are particularly suited to applications where a low false positive rate is desired as well as smaller spacer requirements compared to the bloom filter. "
   ]
  },
  {
   "cell_type": "code",
   "execution_count": null,
   "metadata": {
    "collapsed": true
   },
   "outputs": [],
   "source": []
  }
 ],
 "metadata": {
  "kernelspec": {
   "display_name": "Python 3",
   "language": "python",
   "name": "python3"
  },
  "language_info": {
   "codemirror_mode": {
    "name": "ipython",
    "version": 3
   },
   "file_extension": ".py",
   "mimetype": "text/x-python",
   "name": "python",
   "nbconvert_exporter": "python",
   "pygments_lexer": "ipython3",
   "version": "3.5.0b4"
  }
 },
 "nbformat": 4,
 "nbformat_minor": 0
}

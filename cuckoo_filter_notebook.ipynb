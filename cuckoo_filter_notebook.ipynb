{
 "cells": [
  {
   "cell_type": "markdown",
   "metadata": {},
   "source": [
    "# Cuckoo Filter "
   ]
  },
  {
   "cell_type": "markdown",
   "metadata": {},
   "source": [
    "### Introduction and Post Summary\n",
    "Probabilistic data structures are useful in streaming settings and other applications with significant memory requirements. In streaming scenarios, one often wants to test whether an item has been encountered before. For example, imagine an application that consumes tweets from the twitter api. A natural query might be whether a tweet has been encountered before. With hundreds of millions of tweets published daily, storing all tweets in a set[hyperlink] will require significant memory. Probabilistic data structures like the bloom filter are designed to answer such queries in a space efficient manner. Here, we explore a recently introduced probabilistic data structure: the cuckoo filter. The cuckoo filter was designed as an improvement upon the standard bloom filter. In this post, we provide a python implementation of the cuckoo filter, and provide comparisons to a counting bloom filter; a bloom filter variant that allows for dynamic deletions. "
   ]
  },
  {
   "cell_type": "markdown",
   "metadata": {},
   "source": [
    "### Bloom filter\n",
    "At Fast Forward Labs, bloom filters and other probabilistic data structures were explored in detail in the report, \"Probabilistic Methods for Real-time Streams.\" Bloom filters [hyperlink] leverage hash functions to encode items compactly in an array. Encoded values derived from hashing an item to be inserted into a bloom filter can then be used as indices of an array. The derived indices can then be set to indicate that an item has been inserted into an array. Because two items can hashed to the same indices, membership queries for bloom filters can lead to false positives. Traditional bloom filters do not support deletions, since hashing is lossy and irreversible; hence deletions require the entire filter to be rebuilt. Variants of the bloom filter that allow for deletions have however been introduced as well. One popular variant is the counting bloom filter [link]. \n"
   ]
  },
  {
   "cell_type": "markdown",
   "metadata": {},
   "source": [
    "### Overview of cuckoo filter\n",
    "The cuckoo filter is designed to provide capabilities similar to the counting bloom filter. The cuckoo filter consists of a cuckoo hash table [hyperlink] that stores the 'fingerprints' of items inserted. The fingerprint of an item is a reduced bit string derived from the hash of that item. A cuckoo hash table \"consists of an array of buckets\" where an item to be inserted is mapped to two possible buckets based on two hash functions. Each bucket can be configured to store variable number of fingerprints. Typically, a cuckoo filter is identified  by the its fingerprint size and bucket size. For example, a (2,4)\n",
    "cuckoo filter stores 2 bit length fingerprints and each bucket in\n",
    "the cuckoo hash table can store up to 4 fingerprints. Following the introduction paper [link], we implemented the cuckoo filter in python. Below we initialize an example cuckoo filter and test simple inserts and deletions. We also implement a counting bloom filter as well in order to make performance comparisons. "
   ]
  },
  {
   "cell_type": "code",
   "execution_count": null,
   "metadata": {
    "collapsed": true
   },
   "outputs": [],
   "source": []
  },
  {
   "cell_type": "code",
   "execution_count": 1,
   "metadata": {
    "collapsed": true
   },
   "outputs": [],
   "source": [
    "from cuckoofilter import CuckooFilter\n",
    "\n",
    "c_filter = CuckooFilter(100, 2) #specify capacity and fingerprint size"
   ]
  },
  {
   "cell_type": "code",
   "execution_count": null,
   "metadata": {
    "collapsed": true
   },
   "outputs": [],
   "source": [
    "c_filter.insert(\"James\")\n",
    "\n",
    "print(Jame)"
   ]
  },
  {
   "cell_type": "markdown",
   "metadata": {},
   "source": [
    "## Bench marking against counting bloom filter\n",
    "In this section, we compare the cuckoo filter to the counting bloom filter across a variety of scenarios: insertion time, deletion time, space requirements, and false positive rate.  "
   ]
  },
  {
   "cell_type": "markdown",
   "metadata": {},
   "source": [
    "#### Insertion Time\n"
   ]
  },
  {
   "cell_type": "code",
   "execution_count": null,
   "metadata": {
    "collapsed": true
   },
   "outputs": [],
   "source": []
  },
  {
   "cell_type": "markdown",
   "metadata": {},
   "source": [
    "As shown in the different graphs above, the cuckoo filter has several advantages compared to standard bloom filters.\n",
    "Despite these advantages cuckoo filters are particularly suited to applications where a low false positive rate is desired as well as smaller spacer requirements compared to the bloom filter. "
   ]
  },
  {
   "cell_type": "code",
   "execution_count": null,
   "metadata": {
    "collapsed": true
   },
   "outputs": [],
   "source": [
    "### Graph of sizes for different inserts\n",
    "\n",
    "### false positive for different sizes, extreme case when it is almost full as well. \n",
    "\n",
    "### total size benchmark graph"
   ]
  }
 ],
 "metadata": {
  "kernelspec": {
   "display_name": "Python 3",
   "language": "python",
   "name": "python3"
  },
  "language_info": {
   "codemirror_mode": {
    "name": "ipython",
    "version": 3
   },
   "file_extension": ".py",
   "mimetype": "text/x-python",
   "name": "python",
   "nbconvert_exporter": "python",
   "pygments_lexer": "ipython3",
   "version": "3.5.0b4"
  }
 },
 "nbformat": 4,
 "nbformat_minor": 0
}

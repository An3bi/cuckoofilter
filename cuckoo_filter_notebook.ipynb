{
 "cells": [
  {
   "cell_type": "code",
   "execution_count": 1,
   "metadata": {
    "collapsed": true
   },
   "outputs": [],
   "source": [
    "from IPython.display import SVG"
   ]
  },
  {
   "cell_type": "markdown",
   "metadata": {},
   "source": [
    "# Cuckoo Filter "
   ]
  },
  {
   "cell_type": "code",
   "execution_count": 2,
   "metadata": {
    "collapsed": false
   },
   "outputs": [
    {
     "data": {
      "image/svg+xml": [
       "<svg enable-background=\"new 0 0 270.5 96.5\" viewBox=\"0 0 270.5 96.5\" xmlns=\"http://www.w3.org/2000/svg\" xmlns:xlink=\"http://www.w3.org/1999/xlink\"><path d=\"M119.9 89.7h77.3c2.2 0 4.1-1.8 4.1-4.1v-37\" fill=\"none\" stroke=\"#000\" stroke-miterlimit=\"10\" stroke-width=\"2\"/><defs><path d=\"M270.5-14.3v111L.5 94.8V-16.3\" id=\"a\"/></defs><clipPath id=\"b\"><use overflow=\"visible\" xlink:href=\"#a\"/></clipPath><path clip-path=\"url(#b)\" d=\"M285.5 38.2c-24.6 0-64.2-2.4-89-.5-22.9 1.8-43.2 7.1-66.7 7.5-17.4.3-35-.4-51.6-4.9-30.6-8.3-53.7-10.6-83-5 0 0-103.8-7.8-48.1 34.7\" fill=\"none\" stroke=\"#cf00ab\" stroke-miterlimit=\"10\" stroke-width=\"51\"/><path clip-path=\"url(#b)\" d=\"M275.5 52.2c-23.6 0-61.5-2.4-85.3-.5-21.9 1.8-41.4 7.1-63.9 7.5-16.6.3-33.5-.4-49.5-4.9-29.4-8.3-51.5-10.6-79.5-5 0 0-99.5-7.8-46.1 34.7M275.5 25.1c-23.6 0-61.5-2.4-85.3-.5-21.9 1.8-41.4 7.1-63.9 7.5-16.6.3-33.5-.4-49.5-4.9-29.4-8.3-51.5-10.6-79.5-5 0 0-99.5-7.8-46.1 34.7M275.5 39.2c-23.6 0-61.5-2.4-85.3-.5-21.9 1.8-41.4 7.1-63.9 7.5-16.6.3-33.5-.4-49.5-4.9-29.4-8.3-51.5-10.6-79.5-5 0 0-99.5-7.8-46.1 34.7\" fill=\"none\" stroke=\"#fff\" stroke-dasharray=\"18,4\" stroke-miterlimit=\"10\"/><path clip-path=\"url(#b)\" d=\"M24 37.1l26.7 3 26.5 7.5 3.7-11.7-50.7-7.2h-6z\" fill=\"#cf00ab\"/><g clip-path=\"url(#b)\" fill=\"#fff\"><path d=\"M32.2 33.8c-.1 1.4-1 2.4-2.6 2.4h-2.5c-.1 0-.1 0-.1-.1l.6-6c0-.1.1-.1.1-.1h2.8c1.1 0 1.8.6 1.8 1.7v.3l-.1 1.8zm-.8-1.8v-.2c0-.6-.4-.9-1-.9h-1.8l-.5 4.5h1.6c.9 0 1.4-.6 1.5-1.6l.2-1.8zM37 36.3c0 .1-.1.1-.1.1h-.7c-.1 0-.1 0-.1-.1 0 0 0-.2.2-1.2l-.5.6c-.3.4-.7.7-1.5.7h-.2c-.7 0-1.1-.5-1.1-1.2V35l.2-1.3c.2-1.2.9-1.9 2.1-1.9h.1c.4 0 .9.2 1.2.4V32c0-.1.1-.1.1-.1h.7s.1 0 .1.1l-.5 4.3zM35.5 35l.9-1 .1-.9c-.3-.2-.6-.3-1-.3h-.1c-.7 0-1.1.4-1.2 1.1l-.1 1.1v.1c0 .3.1.4.4.5h.1c.3 0 .6-.3.9-.6zM40.7 36.6c0 .1-.1.1-.1.1h-.7c-.8-.1-1.2-.5-1.1-1.2v-.2l.4-2.2-.9-.2c-.1 0-.1-.1-.1-.1l.1-.5c0-.1.1-.1.1-.1l.9.1.1-.4c0-.1 0-.1.1-.2l.7-.3h.1c.1 0 .1.1.1.1l-.2.9 1.1.1c.1 0 .1.1.1.1l-.1.7c0 .1-.1.1-.1.1l-1.1-.1c-.1.8-.4 2.1-.4 2.3 0 .2.1.4.4.4h.6s.1 0 .1.1l-.1.5zM45.5 37c0 .1-.1.1-.1.1l-.8-.1c-.1 0-.1 0-.1-.1 0 0 0-.2.2-1.2l-.5.6c-.4.4-.8.7-1.5.6h-.2c-.6-.1-1.1-.5-1-1.2v-.2l.2-1.3c.2-1.2 1-1.9 2.2-1.7h.1c.4 0 .9.2 1.2.5v-.2c0-.1.1-.1.1-.1l.7.1s.1 0 .1.1l-.6 4.1zM44 35.6l1-1 .2-.9c-.3-.2-.6-.4-1-.4h-.1c-.7-.1-1.1.4-1.2 1l-.2 1.2v.1c0 .3.1.5.3.5h.1c.3.1.6-.2.9-.5zM54.2 32.8c0 .1-.1.1-.1.1l-2.2-.3c-.5-.1-.9 0-1 .4 0 0-.1.2-.1.3-.1.4.3.7.9.9l1 .5c.7.3 1.1.8 1 1.5 0 .1 0 .2-.1.3l-.1.4c-.2.9-1 1.2-2.2 1l-2.4-.4c-.1 0-.1-.1-.1-.1l.1-.6c0-.1.1-.1.1-.1l2.2.3c.6.1 1.1 0 1.2-.4 0-.1.1-.3.1-.4.1-.4-.2-.6-.7-.8l-1.1-.5c-.7-.3-1.2-.9-1.1-1.7 0-.1 0-.2.1-.3l.1-.2c.3-1 1-1.2 2.3-1l2.1.3.1.1-.1.7zM56.6 38.7c0 .1-.1.1-.1.1l-.7-.1c-.8-.1-1.1-.6-1-1.3v-.2l.6-2.1-.8-.3c-.1 0-.1-.1-.1-.1l.1-.5c0-.1.1-.1.1-.1l.9.2.1-.4c0-.1 0-.1.2-.2l.7-.3h.1c.1 0 .1.1.1.1l-.3.9 1.1.2c.1 0 .1.1.1.1l-.2.7c0 .1-.1.1-.1.1l-1.1-.2c-.2.8-.6 2-.6 2.2 0 .2.1.4.3.5l.6.1s.1 0 .1.1l-.1.5zM62.1 36l-.8.4h-.1l-.1-.1c-.1-.1-.1-.3-.3-.3h-.1c-.2 0-.3.1-.5.3l-1.1 1-.6 1.8c0 .1-.1.1-.1.1l-.7-.2c-.1 0-.1-.1-.1-.1l1.2-4c0-.1.1-.1.1-.1l.7.1.1.1-.3 1 .6-.6c.3-.3.6-.4 1-.3h.1c.4.1.6.3.8.7.2.1.2.1.2.2zM62.5 38.5c-.1.5.1.7.6.8l1.9.4.1.1-.2.6c0 .1-.1.1-.1.1l-2-.5c-.9-.2-1.4-.8-1.2-1.7v-.2l.3-.9c.3-1.1 1.2-1.7 2.4-1.5l.6.1c.8.2 1.3.6 1.1 1.3 0 0 0 .2-.1.3-.3.8-.9.8-1.6.9l-1.8.2zm.3-.8l1.3-.1c.5 0 .9-.1 1-.4v-.1c0-.2-.1-.4-.3-.4l-.6-.1c-.7-.1-1.1.1-1.3.9l-.1.2zM69.7 41.5c0 .1-.1.1-.1.1l-.7-.2c-.1 0-.1-.1-.1-.1s.1-.2.4-1.1l-.6.5c-.4.4-.8.6-1.6.4h-.1c-.6-.2-1-.7-.8-1.4v-.1l.4-1.2c.4-1.1 1.2-1.7 2.4-1.4h.1c.4.1.8.4 1.1.6l.1-.2c0-.1.1-.1.1-.1l.7.2.1.1-1.4 3.9zm-1.2-1.6l1.1-.8.3-.9c-.3-.3-.5-.4-1-.5h-.1c-.7-.2-1.1.2-1.4.9l-.4 1.2v.1c-.1.2 0 .5.3.5h.1c.4 0 .7-.2 1.1-.5zM72.9 39.6l.7-.7c.5-.5.9-.7 1.4-.5l.2.1c.6.2.8.5.6 1.2 0 .1 0 .1-.1.2l-.2.4.7-.7c.5-.5.9-.7 1.4-.5l.2.1c.6.2.8.5.6 1.2 0 .1 0 .1-.1.2l-1.1 3-.1.1-.7-.2c-.1 0-.1-.1-.1-.1.4-1 1.1-3 1.2-3.1 0-.2 0-.3-.1-.3h-.1c-.2-.1-.5.2-1 .5l-1.3 1-.5 1.4-.1.1-.4-.3c-.1 0-.1-.1-.1-.1.4-1 1.2-3.1 1.2-3.1 0-.2 0-.3-.1-.3h-.1c-.2-.1-.5.2-1 .5l-1.3 1-.6 1.4-.1.1-.8-.2c-.1 0-.1-.1-.1-.1l1.5-3.9c0-.1.1-.1.1-.1l.7.2.1.1-.5 1.4z\"/></g><path clip-path=\"url(#b)\" d=\"M15 51.5v-21l-1.5-19.3-29.7 6.3 4.4 36.2zM270.5 57.1l-14.2-2-1.4-24.3V16.7l55.9 4.1-17.2 32.9z\" fill=\"#cf00ab\"/><path d=\"M209.5 70.7H193c-2.6 0-4.8-2.1-4.8-4.8V10.4c0-2.6 2.1-4.8 4.8-4.8h16.5c2.6 0 4.8 2.1 4.8 4.8v55.5c-.1 2.7-2.2 4.8-4.8 4.8z\" fill=\"#fff\" stroke=\"#000\" stroke-miterlimit=\"10\" stroke-width=\"2\"/><path d=\"M195 13h12.4v50.3H195z\" fill=\"#cf00ab\"/><g fill=\"none\" stroke=\"#fff\" stroke-miterlimit=\"10\"><path d=\"M195 24.1h12.4M195 37.2h12.4M195 50.2h12.4\"/></g><path d=\"M195 13h12.4v50.3H195z\" fill=\"none\" stroke=\"#000\" stroke-miterlimit=\"10\" stroke-width=\"2\"/><g fill=\"#fff\" stroke=\"#000000\" stroke-linecap=\"round\" stroke-miterlimit=\"10\" stroke-width=\"2\"><path d=\"M168.1 86.6H99.5c-.8 0-1.4-.6-1.4-1.4V41.6c0-.8.6-1.4 1.4-1.4H168c.8 0 1.4.6 1.4 1.4v43.5c.1.8-.6 1.5-1.3 1.5zM103.5 45.1h60.6v36.6h-60.6zM172.5 92.9l-77.4-.2c-1.5 0-2.8-1.2-2.8-2.8v-3.2l82.9.2v3.2c0 1.6-1.2 2.8-2.7 2.8z\"/></g><g fill=\"#000000\"><path d=\"M107.2 58v-.7l2.3-1.2-2.3-1.2v-.7l2.7 1.4v.9l-2.7 1.5zM112.5 58.1h-.4c-.1 0-.2-.1-.3-.1v1.2h-.9v-4.4h.9v.6h.2c.1-.2.2-.3.4-.5.2-.1.4-.2.6-.2.3 0 .5.1.7.3.2.2.3.5.3.8v1c0 .4-.1.7-.4.9-.4.3-.7.4-1.1.4zm-.2-.7c.2 0 .3 0 .4-.1.1-.1.1-.2.1-.4V56c0-.2 0-.3-.1-.4s-.2-.1-.3-.1c-.1 0-.2 0-.4.1l-.3.3v1.4c.1.1.2.1.3.1h.3zM114.8 58v-3.3h.9v.6h.2c.1-.2.2-.4.4-.5.2-.1.4-.1.6-.1.3 0 .5.1.6.2s.2.4.2.7v.6h-.8v-.3c0-.2 0-.3-.1-.4s-.2-.1-.3-.1c-.1 0-.3 0-.4.1l-.3.3V58h-1zM119.8 58.1c-.5 0-.8-.1-1.1-.3-.3-.2-.4-.5-.4-.9V56c0-.4.1-.7.4-.9.3-.2.6-.3 1.1-.3.5 0 .8.1 1.1.3.3.2.4.5.4.9v.9c0 .4-.1.7-.4.9-.3.2-.6.3-1.1.3zm0-.7c.2 0 .3 0 .4-.1.1-.1.1-.2.1-.5V56c0-.2 0-.4-.1-.5-.1-.1-.2-.1-.4-.1s-.3 0-.4.1c-.1.1-.1.3-.1.5v.8c0 .2 0 .4.1.5.1.1.2.1.4.1zM123.5 58.1c-.2 0-.5 0-.7-.1s-.5-.2-.7-.3v-4h.9v1.7h.2c.1-.2.2-.4.4-.5.2-.1.4-.2.6-.2.3 0 .5.1.7.3.2.2.3.5.3.8v1c0 .4-.1.7-.4.9-.4.3-.8.4-1.3.4zm0-.7c.2 0 .3 0 .4-.1.1-.1.1-.2.1-.4V56c0-.2 0-.3-.1-.4s-.2-.1-.3-.1c-.1 0-.2 0-.4.1l-.3.3v1.4c.1.1.2.1.3.1h.3zM126.7 58.1c-.3 0-.5-.1-.7-.2-.2-.2-.3-.4-.3-.7 0-.3.1-.5.3-.7.2-.2.5-.2.8-.2h.8v-.4c0-.2 0-.3-.1-.3-.1-.1-.2-.1-.4-.1s-.3 0-.4.1c-.1.1-.2.2-.2.4l-.7-.1c.1-.4.2-.6.4-.8.2-.2.5-.2.9-.2s.8.1 1 .3c.2.2.4.4.4.8v1c0 .2 0 .3.1.3h.4v.7c-.3.1-.5.1-.7 0-.2-.1-.3-.2-.4-.5h-.1c-.1.2-.3.3-.5.4-.1.1-.4.2-.6.2zm.2-.6c.1 0 .3 0 .4-.1s.2-.1.3-.2v-.5h-.7c-.1 0-.2 0-.3.1s-.1.2-.1.3c0 .1 0 .2.1.3.1.1.2.1.3.1zM131 58.1c-.2 0-.5 0-.7-.1s-.5-.2-.7-.3v-4h.9v1.7h.2c.1-.2.2-.4.4-.5.2-.1.4-.2.6-.2.3 0 .5.1.7.3.2.2.3.5.3.8v1c0 .4-.1.7-.4.9-.5.3-.8.4-1.3.4zm0-.7c.2 0 .3 0 .4-.1.1-.1.1-.2.1-.4V56c0-.2 0-.3-.1-.4s-.2-.1-.3-.1c-.1 0-.2 0-.4.1l-.3.3v1.4c.1.1.2.1.3.1h.3zM133.3 58v-.7h1v-1.9h-1v-.7h1.9v2.6h1v.7h-2.9zm1.5-3.8c-.2 0-.3 0-.4-.1-.1-.1-.2-.2-.2-.3v-.1c0-.1.1-.2.2-.3.1-.1.3-.1.4-.1.2 0 .3 0 .4.1.1.1.2.2.2.3v.1c0 .1-.1.2-.2.3-.1.1-.2.1-.4.1zM137.1 58v-.7h1v-3h-1v-.7h1.9v3.7h1v.7h-2.9zM140.8 58v-.7h1v-1.9h-1v-.7h1.9v2.6h1v.7h-2.9zm1.4-3.8c-.2 0-.3 0-.4-.1-.1-.1-.2-.2-.2-.3v-.1c0-.1.1-.2.2-.3.1-.1.3-.1.4-.1.2 0 .3 0 .4.1.1.1.2.2.2.3v.1c0 .1-.1.2-.2.3 0 .1-.2.1-.4.1zM145.9 58.1c-.3 0-.6 0-.8-.1s-.5-.2-.7-.3l.2-.6c.2.1.4.2.7.3.2.1.5.1.7.1.2 0 .3 0 .4-.1s.1-.1.1-.3c0-.1 0-.2-.1-.3-.1-.1-.3-.1-.5-.1-.4 0-.8-.1-1-.3-.2-.1-.3-.4-.3-.7 0-.3.1-.6.4-.8.2-.2.6-.3 1-.3.2 0 .5 0 .7.1.2.1.5.2.7.3l-.2.6-.6-.3c-.2-.1-.4-.1-.5-.1-.1 0-.3 0-.3.1-.1.1-.1.1-.1.3 0 .1.1.2.2.3.1 0 .3.1.6.1.4.1.7.2.9.3.2.2.3.4.3.7 0 .3-.1.6-.4.8-.6.2-.9.3-1.4.3zM150.2 58.1c-.4 0-.7-.1-1-.3-.2-.2-.3-.5-.3-.9v-1.5h-.8v-.7h.8v-1.1h.9v1.1h1.2v.7h-1.2v1.4c0 .2 0 .4.1.5.1.1.2.1.4.1h.3s.2 0 .3-.1l.1.7c-.1 0-.2.1-.4.1h-.4zM151.9 58v-.7h1v-1.9h-1v-.7h1.9v2.6h1v.7h-2.9zm1.5-3.8c-.2 0-.3 0-.4-.1s-.2-.2-.2-.3v-.1c0-.1.1-.2.2-.3.1-.1.3-.1.4-.1s.3 0 .4.1c.1.1.2.2.2.3v.1c0 .1-.1.2-.2.3s-.2.1-.4.1zM157.2 58.1c-.5 0-.9-.1-1.1-.3-.3-.2-.4-.5-.4-.9V56c0-.4.1-.7.4-.9s.6-.3 1.1-.3c.5 0 .8.1 1 .3.2.2.4.5.4.9l-.9.1c0-.2-.1-.4-.2-.5-.1-.1-.2-.1-.4-.1s-.4 0-.5.1c-.1.1-.1.3-.1.5v.7c0 .2 0 .4.1.5.1.1.3.1.5.1s.3 0 .4-.1c.1-.1.1-.2.2-.4l.9.1c0 .3-.1.6-.4.8-.1.2-.5.3-1 .3zM109.5 65.2l-.3-1.1H108l-.3 1.1h-.8l1.2-4.4h1.1l1.2 4.4h-.9zm-.4-1.8l-.4-1.8-.5 1.8h.9zM110.9 65.2v-.7h1v-3h-1v-.7h1.9v3.7h1v.7h-2.9zM117.8 65.4c0 .3-.1.5-.3.7s-.5.3-.9.3h-.9c-.4 0-.7-.1-.9-.2s-.3-.3-.3-.6c0-.2.1-.3.2-.4s.2-.2.4-.2v-.1c-.1 0-.2-.1-.3-.2-.1-.1-.1-.2-.1-.4s.1-.3.2-.5c.1-.1.3-.2.5-.2v-.1c-.2-.1-.3-.1-.4-.2-.1-.1-.1-.2-.1-.4 0-.3.1-.5.3-.6.2-.2.5-.2.9-.2h1.8v.6l-.9-.1v.1c.1 0 .2.1.3.2s.1.2.1.3v.1c0 .3-.1.5-.3.6-.2.1-.5.2-.9.2h-.5c-.1 0-.2 0-.3.1-.1 0-.1.1-.1.2s0 .2.1.2.2.1.3.1h1c.3 0 .6.1.8.2.1 0 .3.2.3.5zm-2.2.4h1c.1 0 .2 0 .3-.1.1 0 .1-.1.1-.3 0-.1 0-.2-.1-.3s-.2-.1-.3-.1h-1.3v.3c0 .1 0 .2.1.3 0 .2.1.2.2.2zm.4-2.3c.2 0 .3 0 .4-.1s.1-.2.1-.3v-.2c0-.1 0-.2-.1-.3s-.2-.1-.4-.1-.3 0-.4.1-.1.2-.1.3v.2c0 .1 0 .2.1.3.1.1.2.1.4.1zM119.8 65.3c-.5 0-.8-.1-1.1-.3-.3-.2-.4-.5-.4-.9v-.9c0-.4.1-.7.4-.9.3-.2.6-.3 1.1-.3.5 0 .8.1 1.1.3.3.2.4.5.4.9v.9c0 .4-.1.7-.4.9-.3.2-.6.3-1.1.3zm0-.7c.2 0 .3 0 .4-.1.1-.1.1-.2.1-.5v-.8c0-.2 0-.4-.1-.5-.1-.1-.2-.1-.4-.1s-.3 0-.4.1c-.1.1-.1.3-.1.5v.8c0 .2 0 .4.1.5.1.1.2.1.4.1zM122.2 65.2V62h.9v.6h.2c.1-.2.2-.4.4-.5.2-.1.4-.1.6-.1.3 0 .5.1.6.2s.2.4.2.7v.6h-.8v-.3c0-.2 0-.3-.1-.4-.1-.1-.2-.1-.3-.1-.1 0-.3 0-.4.1l-.3.3v2.2h-1zM125.8 65.2v-.7h1v-1.9h-1V62h1.9v2.6h1v.7h-2.9zm1.5-3.8c-.2 0-.3 0-.4-.1-.1-.1-.2-.2-.2-.3 0-.1.1-.2.2-.3.1-.1.3-.1.4-.1.2 0 .3 0 .4.1.1.1.2.2.2.3v.1c0 .1-.1.2-.2.3h-.4zM131.6 65.3c-.4 0-.7-.1-1-.3-.2-.2-.3-.5-.3-.9v-1.5h-.8V62h.8v-1.1h.9V62h1.2v.7h-1.2V64c0 .2 0 .4.1.5.1.1.2.1.4.1h.3c.1 0 .2 0 .3-.1l.1.7c-.1 0-.2.1-.4.1h-.4zM133.2 65.2v-4.4h.9v1.7h.2c.1-.2.2-.4.4-.5.2-.1.4-.2.6-.2.3 0 .5.1.7.3.2.2.3.4.3.7v2.3h-.9V63c0-.2 0-.3-.1-.4-.1-.1-.2-.1-.3-.1-.1 0-.2 0-.4.1-.1.1-.3.2-.4.4v2.1h-1zM137.6 62.9v2.3h-.8V62h.7v.4h.1c.1-.2.1-.3.2-.4.1-.1.2-.1.3-.1s.2 0 .3.1c.1.1.2.2.2.4h.1c.1-.2.1-.3.3-.4.1-.1.2-.1.4-.1s.3.1.4.2c.1.1.1.3.1.6v2.5h-.8v-2.6c0-.1-.1-.1-.1-.1-.1 0-.1 0-.2.1s-.1.2-.2.3v2.3h-.7v-2.6c0-.1-.1-.1-.1-.1-.1 0-.1 0-.2.1.1.1 0 .2 0 .3z\"/></g><path d=\"M103.5 45.1h60.6v5.1h-60.6z\" fill=\"#000000\"/></svg>"
      ],
      "text/plain": [
       "<IPython.core.display.SVG object>"
      ]
     },
     "execution_count": 2,
     "metadata": {},
     "output_type": "execute_result"
    }
   ],
   "source": [
    "SVG(filename='./images/03.svg')"
   ]
  },
  {
   "cell_type": "markdown",
   "metadata": {},
   "source": [
    "### Introduction and Post Summary\n",
    "\n",
    "Probabilistic data structures store data compactly with low memory and provide approximate answers to queries about stored data. They are designed to answer queries in a space-efficient manner, which can mean sacrificing accuracy. However, they typically provide guarantees and bounds on error rates depending on specifications of the data structure in question. Because they provide low memory footprints, probabilisitic data structures are particularly useful in streaming and low power settings. As such, they are extremely useful in big data situations like counting views on a video or maintaining a list of unique tweets in the past. A single HyperLogLog++ structure, for example, can count up to 7.9 billion unique items using 2.56KB of memory with only a 1.65% error rate. \n",
    "\n",
    "The Fast Forward Labs team explored probabilistic data structures in our \"Probabilistic Methods for Real-time Streams\" report and prototype (contact us if you're interested in this topic). This post provides an update by exploring Cuckoo filters, a [new](https://www.cs.cmu.edu/~dga/papers/cuckoo-conext2014.pdf) probabilistic data structure that improves upon the standard Bloom filter by reducing false positive rates and enabling support to delete items seen in the past. We provide a python implementation of the Cuckoo filter, comparing it to a counting Bloom filter (a Bloom filter variant). "
   ]
  },
  {
   "cell_type": "markdown",
   "metadata": {},
   "source": [
    "### Application\n",
    "\n",
    "While they seem esoteric, probabilistic data structures are very useful. Consider large scale internet applications like Twitter that struggle to keep new users engaged. To tackle this, Twitter's growth & engagement team develop marketing campaigns to encourage new and unengaged users to use Twitter more often. To aid this work, every new user can be added to a Cuckoo filter. When he/she becomes active, he/she can be removed, and the engagement team can target growth campaigns to individuals currently in the Cuckoo filter. The Cuckoo filter can add and remove users down the line depending on their activity level. Cuckoo filters are easy to implement, so are a good choice for this use case. With hundreds of millions of users, it helps to have a low memory footprint and low false positive rates. "
   ]
  },
  {
   "cell_type": "markdown",
   "metadata": {},
   "source": [
    "### Bloom filter overview\n",
    "\n",
    " [Bloom filters](https://en.wikipedia.org/wiki/Bloom_filter) are a popular probabilistic data structure that allow space-efficient testing of set membership. When monitoring a real-time stream of tweets, for example, a Bloom filter allows us to test whether a tweet is new or has been seen before. Bloom filters use hash functions to compactly encode items as integers; these serve as indices of a bit array that is then set. To test if an item has been seen before, a Bloom filter hashes the item to produce its set of indices, and each index is checked to see if it has been set. Since it's possible to hash multiple items to the same indices, a membership test returns either false or maybe. That means, Bloom filters give no false negatives but a controllable rate of false positives. If a Bloom filter indicates that an item has not been seen before, we can be certain that's the case; but if it indicates an item has been seen, it's possible that's not the case (a false positive)."
   ]
  },
  {
   "cell_type": "code",
   "execution_count": 3,
   "metadata": {
    "collapsed": false
   },
   "outputs": [
    {
     "data": {
      "image/svg+xml": [
       "<svg enable-background=\"new 0 0 135 120\" viewBox=\"0 0 135 120\" xmlns=\"http://www.w3.org/2000/svg\"><g><g fill=\"#cf00ab\"><path d=\"M60.8 3h14.8v16.2H60.8zM61.3 3.5h13.8v15.2H61.3zM61.3 3.5h13.8v15.2H61.3z\"/></g><g fill=\"#cf00ab\"><path d=\"M60.8 18.9h14.8v16.2H60.8zM61.3 19.4h13.8v15.2H61.3zM61.3 19.4h13.8v15.2H61.3z\"/></g><g fill=\"#cf00ab\"><path d=\"M60.8 50.6h14.8v16.2H60.8zM61.3 51.1h13.8v15.2H61.3zM61.3 51.1h13.8v15.2H61.3z\"/></g><g fill=\"#cf00ab\"><path d=\"M60.8 82.3h14.8v16.2H60.8zM61.3 82.9h13.8v15.2H61.3zM61.3 82.9h13.8v15.2H61.3z\"/></g><path d=\"M61 3h14.2v110.6H61z\" fill=\"none\" stroke=\"#000\" stroke-miterlimit=\"10\" stroke-width=\"2\"/><g fill=\"none\" stroke=\"#000\" stroke-miterlimit=\"10\" stroke-width=\"2\"><path d=\"M61 18.8h14.2M61 34.6h14.2M61 50.4h14.2M61 66.2h14.2M61 82h14.2M61 97.8h14.2\"/></g><circle cx=\"116.4\" cy=\"51.6\" r=\"8.6\"/><path d=\"M109.1 17.6H126v16.9h-16.9zM109.1 66.2v21.4L126 76.5z\"/><path d=\"M107.8 51.5M104.3 51.5M104.3 76.9\" fill=\"none\" stroke=\"#000\" stroke-linejoin=\"bevel\" stroke-miterlimit=\"10\" stroke-width=\"2\"/><path d=\"M8.4 27.8l6.4-3.2 1-7 5 5.1 7.1-1.2-3.3 6.3 3.3 6.4-7.1-1.3-5 5.2-1-7.1zM9.1 71.1l9-5 9.1 5v10.1l-9.1 5-9-5zM27.2 104l-.1.1h-.6c-.1 0-.1 0-.1-.1l.3-2.6v-.3c0-.2-.1-.3-.3-.3h-.1c-.3 0-.5.3-.9.8l-.9 1.2-.1 1.2s0 .1-.1.1h-.7s-.1 0-.1-.1l.4-3.7s0-.1.1-.1h.7s.1 0 .1.1l-.1 1.4.5-.8c.3-.5.6-.8 1.2-.8h.2c.5 0 .9.3.9.9v.2l-.3 2.8zM29.1 102.8c0 .5.2.6.7.6h1.7s.1 0 .1.1v.5s0 .1-.1.1h-1.8c-.8 0-1.4-.4-1.4-1.3v-.2l.1-.8c.1-1 .7-1.7 1.8-1.7h.6c.8 0 1.2.3 1.2.9v.3c-.1.7-.6.9-1.2 1.1l-1.7.4zm.1-.7l1.1-.3c.4-.1.8-.2.8-.5v-.1c0-.2-.1-.3-.4-.3h-.5c-.6 0-.9.3-1 1v.2zM32.8 100.3l.1-.1h.6s.1 0 .1.1l-.3 2.7v.1c0 .2.1.3.3.3h.1c.3 0 .5-.2.7-.5l.8-1.2.2-1.4.1-.1h.6s.1 0 .1.1l-.3 2.6v.3c0 .2.1.3.4.3h.1c.4 0 .7-.3.9-.6.3-.4.4-1.2.4-1.9l.1-.6s0-.1.1-.1h.7s.1 0 .1.1c0 0 0 .2-.1.7-.1 1-.2 1.7-.6 2.3-.4.5-.8.8-1.6.8H36c-.6 0-1-.4-1-.9V103l-.2.4c-.2.4-.5.8-1.1.8h-.3c-.5 0-.9-.3-.9-.9v-.2l.3-2.8zM23.4 112c-.1 1-.7 1.7-1.8 1.7h-.5c-.8 0-1.4-.4-1.4-1.3v-.2l.1-.9c.1-1 .7-1.7 1.8-1.7h.5c.8 0 1.4.4 1.4 1.3v.2l-.1.9zm-.7-.9v-.1c0-.4-.2-.6-.7-.6h-.3c-.6 0-.9.4-1 1l-.1.9v.1c0 .4.2.6.7.6h.3c.6 0 .9-.4 1-1l.1-.9zM25.5 110.9l.4-.6c.3-.4.6-.6 1.3-.6h.1c.6 0 1 .4 1 1v.2l-.1 1c-.1 1-.7 1.7-1.8 1.7h-1.9s-.1 0-.1-.1c0 0 0-.1.6-5.5 0 0 0-.1.1-.1h.7s.1 0 .1.1l-.4 2.9zm-.1 1l-.1 1h1.1c.6 0 .9-.4 1-1 0-.4.1-1 .1-1.1 0-.2-.1-.4-.3-.4h-.1c-.4 0-.6.2-.9.6l-.8.9zM30.3 113.3c-.1.7-.3.9-.8 1.3l-.6.5h-.2l-.4-.5v-.2l.7-.4c.2-.2.5-.3.5-.7l.3-2.7-.8-.2c-.1 0-.1 0-.1-.1v-.4s0-.1.1-.1h1.6s.1 0 .1.1l-.4 3.4zm.6-4.5s-.1 0 0 0l-.9.1c-.1 0-.1 0-.1-.1l.1-.8.1-.1h.8s.1 0 .1.1l-.1.8zM32.3 112.4c0 .5.2.6.7.6h1.7s.1 0 .1.1v.5s0 .1-.1.1h-1.8c-.8 0-1.4-.4-1.4-1.3v-.2l.1-.8c.1-1 .7-1.7 1.8-1.7h.6c.8 0 1.2.3 1.2.9v.3c-.1.7-.6.9-1.2 1.1l-1.7.4zm.1-.7l1.1-.3c.4-.1.8-.2.8-.5v-.1c0-.2-.1-.3-.4-.3h-.5c-.6 0-.9.3-1 1v.2zM39.1 111s-.1 0 0 0l-.7.1s-.1 0-.1-.1v-.2c0-.3-.3-.4-.7-.4h-.1c-.6 0-.9.3-1 1l-.1.9v.1c0 .4.2.5.7.5h1.5s.1 0 .1.1v.5s0 .1-.1.1H37c-.8 0-1.4-.4-1.4-1.2v-.2l.1-.8c.1-1 .7-1.7 1.8-1.7h.2c.8 0 1.4.4 1.4 1.1v.2zM41.9 113.6s0 .1 0 0l-.7.1c-.7 0-1.1-.4-1.1-1v-.2l.2-1.9-.8-.1c-.1 0-.1 0-.1-.1v-.5l.1-.1h.8v-.4c0-.1 0-.1.1-.2l.6-.3h.1c.1 0 .1 0 .1.1l-.1.8h1s.1 0 .1.1l-.1.6-.1.1h-1c-.1.7-.2 1.9-.2 2 0 .2.1.4.4.4h.6s.1 0 .1.1v.5zM102.6 100.8c0 .1-.1.1 0 0l-1.8.1c-.3 0-.5.1-.5.3 0 .2.2.3.4.4.3.1.5.1.8.2.6.1 1.1.4 1.1 1v.3c-.1.7-.6 1-1.4 1h-1.8s-.1 0-.1-.1c0 0 0-.2.1-.5 0 0 0-.1.1-.1h1.8c.3 0 .5-.2.5-.4 0-.3-.2-.4-.6-.4-.2 0-.5-.1-.8-.2-.5-.1-.9-.5-.9-1v-.2c0-.6.5-1 1.4-1h1.7s.1 0 .1.1l-.1.5zM104.1 102.8c0 .5.2.6.7.6h1.7s.1 0 .1.1v.5s0 .1-.1.1h-1.8c-.8 0-1.4-.4-1.4-1.3v-.2l.1-.8c.1-1 .7-1.7 1.8-1.7h.6c.8 0 1.2.3 1.2.9v.3c-.1.7-.6.9-1.2 1.1l-1.7.4zm0-.7l1.1-.3c.4-.1.8-.2.8-.5v-.1c0-.2-.1-.3-.4-.3h-.5c-.6 0-.9.3-1 1v.2zM108.1 102.8c0 .5.2.6.7.6h1.7s.1 0 .1.1v.5s0 .1-.1.1h-1.8c-.8 0-1.4-.4-1.4-1.3v-.2l.1-.8c.1-1 .7-1.7 1.8-1.7h.6c.8 0 1.2.3 1.2.9v.3c-.1.7-.6.9-1.2 1.1l-1.7.4zm.1-.7l1.1-.3c.4-.1.8-.2.8-.5v-.1c0-.2-.1-.3-.4-.3h-.5c-.6 0-.9.3-1 1v.2zM115.1 104l-.1.1h-.6c-.1 0-.1 0-.1-.1l.3-2.6v-.3c0-.2-.1-.3-.3-.3h-.1c-.3 0-.5.3-.9.8l-.9 1.2-.1 1.2s0 .1-.1.1h-.7s-.1 0-.1-.1l.4-3.7s0-.1.1-.1h.7s.1 0 .1.1l-.1 1.4.5-.8c.3-.5.6-.8 1.2-.8h.2c.5 0 .9.3.9.9v.2l-.3 2.8zM97.2 110.9l.4-.6c.3-.4.6-.6 1.3-.6h.1c.6 0 1 .4 1 1v.2l-.1 1c-.1 1-.7 1.7-1.8 1.7h-1.9s-.1 0-.1-.1c0 0 0-.1.6-5.5 0 0 0-.1.1-.1h.7s.1 0 .1.1l-.4 2.9zm-.1 1l-.1 1h1.1c.6 0 .9-.4 1-1 0-.4.1-1 .1-1.1 0-.2-.1-.4-.3-.4h-.1c-.4 0-.6.2-.9.6l-.8.9zM101.5 112.4c0 .5.2.6.7.6h1.7s.1 0 .1.1v.5s0 .1-.1.1h-1.8c-.8 0-1.4-.4-1.4-1.3v-.2l.1-.8c.1-1 .7-1.7 1.8-1.7h.6c.8 0 1.2.3 1.2.9v.3c-.1.7-.6.9-1.2 1.1l-1.7.4zm.1-.7l1.1-.3c.4-.1.8-.2.8-.5v-.1c0-.2-.1-.3-.4-.3h-.5c-.6 0-.9.3-1 1v.2zM105.6 109.3c.1-.8.7-1.3 1.6-1.3h.4s.1 0 .1.1l-.1.5c0 .1 0 .1-.1.1h-.3c-.5 0-.8.2-.9.7v.3h.9s.1 0 .1.1c0 0 0 .1-.1.6l-.1.1h-.9l-.3 2.8c-.1 1-.7 1.7-1.8 1.7h-.4s-.1 0-.1-.1l.1-.5c0-.1 0-.1.1-.1h.3c.6 0 .9-.4 1-1l.3-2.8-.8-.2s-.1 0-.1-.1v-.4s0-.1.1-.1h.8l.2-.4zM111.2 112c-.1 1-.7 1.7-1.8 1.7h-.5c-.8 0-1.4-.4-1.4-1.3v-.2l.1-.9c.1-1 .7-1.7 1.8-1.7h.5c.8 0 1.4.4 1.4 1.3v.2l-.1.9zm-.8-.9v-.1c0-.4-.2-.6-.7-.6h-.3c-.6 0-.9.4-1 1l-.1.9v.1c0 .4.2.6.7.6h.3c.6 0 .9-.4 1-1l.1-.9zM115.4 110.3l-.6.5h-.2c-.1-.2-.2-.3-.3-.3h-.1c-.1 0-.2.1-.4.3l-.8 1-.2 1.7s0 .1-.1.1h-.7c-.1 0-.1 0-.1-.1l.4-3.7s0-.1.1-.1h.7s.1 0 .1.1l-.1.9.5-.6c.2-.3.5-.5.8-.5h.1c.4 0 .6.1.8.5.1.1.1.1.1.2zM116.2 112.4c0 .5.2.6.7.6h1.7s.1 0 .1.1v.5s0 .1-.1.1h-1.8c-.8 0-1.4-.4-1.4-1.3v-.2l.1-.8c.1-1 .7-1.7 1.8-1.7h.6c.8 0 1.2.3 1.2.9v.3c-.1.7-.6.9-1.2 1.1l-1.7.4zm.1-.7l1.1-.3c.4-.1.8-.2.8-.5v-.1c0-.2-.1-.3-.4-.3h-.5c-.6 0-.9.3-1 1v.2z\"/><path d=\"M81.2 13.4l23.7 13.1L81.1 53\" fill=\"none\" stroke=\"#000\" stroke-linejoin=\"bevel\" stroke-width=\"2\"/><path d=\"M83 18.3l-1.3-4.6 4.6-1.4-2.5-1.3-4.6 1.3 1.3 4.6zM81.2 47.7l.3 4.8 4.8-.2-2 2.1-4.8.3-.2-4.8z\"/><path d=\"M81.1 32.6l23.6 18.8-24.3 30.5\" fill=\"none\" stroke=\"#000\" stroke-linejoin=\"bevel\" stroke-width=\"2\"/><path d=\"M82.1 37.7l-.6-4.8 4.8-.5-2.3-1.8-4.7.6.5 4.7zM80.2 76.7l.6 4.8 4.7-.6-1.8 2.3-4.7.5-.6-4.7z\"/><path d=\"M81 61.6l25.7 14.9-25.5 13.2\" fill=\"none\" stroke=\"#000\" stroke-linejoin=\"bevel\" stroke-width=\"2\"/><path d=\"M82.7 66.5l-1.2-4.6 4.6-1.2-2.5-1.5-4.6 1.3 1.2 4.6zM83.1 84.9l-1.4 4.5 4.5 1.5-2.5 1.3-4.6-1.4 1.5-4.6z\"/><path d=\"M54.1 88.8L30 75.8l24.5-27.5\" fill=\"none\" stroke=\"#000\" stroke-linejoin=\"bevel\" stroke-width=\"2\"/><path d=\"M52.2 83.9l1.4 4.6-4.6 1.4 2.5 1.4 4.6-1.4-1.4-4.6zM54.3 53.6l-.2-4.8-4.8.3 1.9-2.2 4.8-.3.3 4.8z\"/><path d=\"M53.6 39.7L29.4 26.9l24.7-12.6\" fill=\"none\" stroke=\"#000\" stroke-linejoin=\"bevel\" stroke-width=\"2\"/><path d=\"M51.6 34.9l1.5 4.5-4.6 1.4 2.5 1.4 4.6-1.4-1.4-4.6zM52.1 19.1l1.5-4.6-4.6-1.4 2.6-1.3 4.6 1.4-1.5 4.6z\"/></g></svg>"
      ],
      "text/plain": [
       "<IPython.core.display.SVG object>"
      ]
     },
     "execution_count": 3,
     "metadata": {},
     "output_type": "execute_result"
    }
   ],
   "source": [
    "SVG(filename='./images/14.svg')"
   ]
  },
  {
   "cell_type": "markdown",
   "metadata": {},
   "source": [
    "Traditional Bloom filters do not support deletions because hashing is lossy and irreversible. That means, deletions require the entire filter to be rebuilt. But what if we want to delete items seen in the past, like certain tweets in the Twitter example above? The counting Bloom filter was introduced to solve this problem. To support deletions, counting Bloom filters extend buckets in traditional Bloom filters from single bit values to n-bit counters. Here, insertions increment rather than set Bloom filter indices. "
   ]
  },
  {
   "cell_type": "markdown",
   "metadata": {},
   "source": [
    "### Cuckoo filter\n",
    "\n",
    "The Cuckoo filter is an alternative to the Bloom filter when one requires support for \n",
    "deletions. They were introduced in [2014](https://www.cs.cmu.edu/~dga/papers/cuckoo-conext2014.pdf) by Fan et. al. Like the counting Bloom filter, Cuckoo filters provide insert, delete, and lookup capabilities. However, Cuckoo filters use different underlying data structures and different insertion procedures than Bloom filters.\n",
    "\n",
    "The Cuckoo filter consists of a [Cuckoo hash table](http://web.stanford.edu/class/archive/cs/cs166/cs166.1146/lectures/13/Small13.pdf) that stores the 'fingerprints' of items inserted. The fingerprint of an item is a bit string derived from the hash of that item. A cuckoo hash table consists of an array of buckets where an item to be inserted is mapped to two possible buckets based on two hash functions. Each bucket can be configured to store a variable number of fingerprints. Typically, a Cuckoo filter is identified  by its fingerprint and bucket size. For example, a (2,4)\n",
    "Cuckoo filter stores 2 bit length fingerprints and each bucket in the Cuckoo hash table can store up to 4 fingerprints. Following the above [paper](https://www.cs.cmu.edu/~dga/papers/cuckoo-conext2014.pdf), we implemented the cuckoo filter in python [link to final repo]. Below, we initialize an example cuckoo filter and test simple inserts and deletions. We also implement a counting Bloom filter to compare performance. "
   ]
  },
  {
   "cell_type": "code",
   "execution_count": 4,
   "metadata": {
    "collapsed": true
   },
   "outputs": [],
   "source": [
    "from cuckoofilter import CuckooFilter\n",
    "c_filter = CuckooFilter(10000, 2) #specify capacity and fingerprint size"
   ]
  },
  {
   "cell_type": "code",
   "execution_count": 5,
   "metadata": {
    "collapsed": false
   },
   "outputs": [
    {
     "name": "stdout",
     "output_type": "stream",
     "text": [
      "James in c_filter == True\n",
      "James in c_filter == False\n"
     ]
    }
   ],
   "source": [
    "c_filter.insert(\"James\")\n",
    "print(\"James in c_filter == {}\".format(\"James\" in c_filter))\n",
    "\n",
    "c_filter.remove(\"James\")\n",
    "print(\"James in c_filter == {}\".format(\"James\" in c_filter))"
   ]
  },
  {
   "cell_type": "code",
   "execution_count": 6,
   "metadata": {
    "collapsed": false
   },
   "outputs": [
    {
     "name": "stdout",
     "output_type": "stream",
     "text": [
      "James in b_filter == True\n",
      "James in b_filter == False\n"
     ]
    }
   ],
   "source": [
    "from cuckoofilter import CountingBloomFilter\n",
    "b_filter = CountingBloomFilter(10000) #specify the capacity of a counting bloom filter\n",
    "\n",
    "b_filter.add(\"James\")\n",
    "print(\"James in b_filter == {}\".format(\"James\" in b_filter))\n",
    "\n",
    "b_filter.remove(\"James\")\n",
    "print(\"James in b_filter == {}\".format(\"James\" in b_filter))"
   ]
  },
  {
   "cell_type": "markdown",
   "metadata": {},
   "source": [
    "### Inserting into a Cuckoo filter\n",
    "\n",
    "<img src=\"./images/cuckoo_hashing_illustration_from_bin_et_al_paper.png\">\n",
    "\n",
    "The Cuckoo filter supports three key operations: insert, delete, and lookup. The figure above, from the Fan et. al. paper, shows how insertion into the Cuckoo filter works. Of all the Cuckoo filter operations, the insert operation is most involved. To insert an item into the Cuckoo filter, one derives two indices from the item based on hashing the item and its fingerprint. On obtaining these indices, one then inserts the item's fingerprint into one of the two possible buckets that correspond to the derived indices. In our implementation, we default to the first index. As the Cuckoo hash table begins to fill up, one can encounter a situation where the two possible indices where an item can be inserted has been filled. In this case, items currently in the Cuckoo hash table are swapped to their alternative indices to free up space for inserting the new item. By implementing insertion in this manner, one can easily delete an item from the table by looking up its fingerprint in one of two possible indices, and deleting this fingerprint if present. To make the insertion procedure more concrete, we provide code below implementing the insertion procedure."
   ]
  },
  {
   "cell_type": "code",
   "execution_count": 7,
   "metadata": {
    "collapsed": true
   },
   "outputs": [],
   "source": [
    "#example function to demonstrate how to insert into a cuckoo filter. \n",
    "\n",
    "import mmh3\n",
    "\n",
    "def obtain_indices_from_item(item_to_insert, fingerprint_size, capacity):\n",
    "    \n",
    "    #hash the string item \n",
    "    hash_value = mmh3.hash_bytes(item_to_insert)\n",
    "    \n",
    "    #subset the hash to a fingerprint size\n",
    "    fingerprint = hash_value[:fingerprint_size]\n",
    "    \n",
    "    #derive the index\n",
    "    index_1 = int.from_bytes(hash_value, byteorder=\"big\")\n",
    "    index_1 = index_1 % capacity\n",
    "    \n",
    "    #derive the index from the fingerprint\n",
    "    hashed_fingerprint = mmh3.hash_bytes(fingerprint)\n",
    "    finger_print_index = int.from_bytes(hashed_fingerprint, byteorder=\"big\")\n",
    "    finger_print_index = finger_print_index % capacity\n",
    "    \n",
    "    #second index -> first_index xor index derived from hash(fingerprint)\n",
    "    index_2 = index_1 ^ finger_print_index\n",
    "    index_2 = index_2 % capacity\n",
    "    \n",
    "    return index_1, index_2, fingerprint\n",
    "\n",
    "def insert_into_table(table, index_1, index_2, bucket_capacity):\n",
    "    #now insert item into the table\n",
    "    if len(table[index_1]) < bucket_capacity:\n",
    "        table[index_1].append(fp)\n",
    "        return table, index_1\n",
    "\n",
    "    if len(table[index_1]) < bucket_capacity:\n",
    "        table[index_2].append(fp)\n",
    "        return table, index_2\n",
    "\n",
    "    #Move items to other positions in the table. \n",
    "    \n",
    "    return \"Unable to Insert Item\"    "
   ]
  },
  {
   "cell_type": "code",
   "execution_count": 8,
   "metadata": {
    "collapsed": false
   },
   "outputs": [],
   "source": [
    "#let's create a crude cuckoo hashtable\n",
    "capacity = 10 #capacity of our cuckoo hashtable\n",
    "bucket_capacity = 4\n",
    "table = [[] for _ in range(capacity)]"
   ]
  },
  {
   "cell_type": "code",
   "execution_count": 9,
   "metadata": {
    "collapsed": false
   },
   "outputs": [
    {
     "name": "stdout",
     "output_type": "stream",
     "text": [
      "Table after James is inserted.\n",
      "[[], [], [], [], [], [], [], [], [], [b'\\xc0\\n']]\n"
     ]
    }
   ],
   "source": [
    "#obtain possibe indices\n",
    "index_1, index_2, fp = obtain_indices_from_item(\"James\", 2, 10)\n",
    "\n",
    "#now let's insert \"James into the table\"\n",
    "table, _ = insert_into_table(table, index_1, index_2, bucket_capacity)\n",
    "\n",
    "print(\"Table after James is inserted.\")\n",
    "#check to see that \"james\" has been inserted\n",
    "print(table)"
   ]
  },
  {
   "cell_type": "code",
   "execution_count": 10,
   "metadata": {
    "collapsed": false
   },
   "outputs": [
    {
     "name": "stdout",
     "output_type": "stream",
     "text": [
      "Table after James is inserted a second time.\n",
      "[[], [], [], [], [], [], [], [], [], [b'\\xc0\\n', b'\\xc0\\n']]\n",
      "\n",
      "\n",
      "Table after Henry is inserted.\n",
      "[[], [], [b'\\x1c\\xb2'], [], [], [], [], [], [], [b'\\xc0\\n', b'\\xc0\\n']]\n"
     ]
    }
   ],
   "source": [
    "#let's insert \"james\" again. \n",
    "index_1, index_2, fp = obtain_indices_from_item(\"James\", 2, 10)\n",
    "\n",
    "#now let's insert \"James into the table\"\n",
    "table, _ = insert_into_table(table, index_1, index_2, bucket_capacity)\n",
    "\n",
    "print(\"Table after James is inserted a second time.\")\n",
    "#now let's check to see that \"James\" has been inserted again\n",
    "print(table)\n",
    "print(\"\\n\")\n",
    "\n",
    "#let's insert a different item now\n",
    "index_1, index_2, fp = obtain_indices_from_item(\"Henry\", 2, 10)\n",
    "\n",
    "table, _ = insert_into_table(table, index_1, index_2, bucket_capacity)\n",
    "\n",
    "print(\"Table after Henry is inserted.\")\n",
    "#now let's check to see that \"Henry\" has been inserted into the table. \n",
    "print(table)"
   ]
  },
  {
   "cell_type": "markdown",
   "metadata": {},
   "source": [
    "## Bench marking against counting Bloom filter\n",
    "\n",
    "### False positive rate comparison\n",
    "Let's compare the Cuckoo filter to the counting Bloom filter. A critical metric for probabilistic data structures like the Bloom and Cuckoo filters is the false positive rate. As shown in the insertion section, comparing the Cuckoo filter and the Bloom filter can be tricky given the difference in their internal workings. To tackle the issue of false positive rates, we  fix the space allocation for both filters and then vary the capacities in order to observe the change in false positive rate. Below we show a graph of the false positive rate vs the capacity for both structures. "
   ]
  },
  {
   "cell_type": "markdown",
   "metadata": {},
   "source": [
    "<img src=\"./images/false_positive_(0.1MB).png\">"
   ]
  },
  {
   "cell_type": "markdown",
   "metadata": {},
   "source": [
    "As seen in the graph, a key advantage of the Cuckoo filter is that with fixed space, the Cuckoo filter provides much lower false positive rates at smaller capacities. As noted in the original paper, for applications that desire lower than 3 percent false positive rate (blue dashed line), the Cuckoo filter is particularly ideal.  Of note is that the Cuckoo filter here is a straightforward implementation without any space optimizations. This further indicates that a Cuckoo filter provides better performance without any tuning compared to optimized Bloom filters. See [Notebook](https://github.com/fastforwardlabs/cuckoofilter/blob/master/bench_marking_notebook.ipynb) for other performance benchmarks comparing the counting Bloom filter to the Cuckoo filter. "
   ]
  },
  {
   "cell_type": "markdown",
   "metadata": {},
   "source": [
    "### Insertion throughput comparison\n",
    "\n",
    "Another important metric to consider is the insertion throughput. Insertion throughput is essentially how long it takes to insert an item in an existing filter. From the design of the Counting Bloom filter, time to insert into the filter does not change as the filter fills up. However, with the Cuckoo filter, time to insert into the filter increases as the filter fills up to capacity. If an item is to be inserted into a Cuckoo table, and both of its possible indices are fully occupied, then the current items are swapped to their alternative indices to free up space for the item being inserted. As the Cuckoo table fills up, more swapping would typically occur as there are more items to relocate. \n",
    "\n",
    "The figure below shows the insertion time for a counting Bloom filter and a Cuckoo filter of the same capacites as both fill up (See [Notebook](https://github.com/fastforwardlabs/cuckoofilter/blob/master/bench_marking_notebook.ipynb) for details). With the Cuckoo filter, we notice an insertion throughput increase of up to 85 percent as it fills up to 80 percent capacity, while the insertion throughput for the counting Bloom filter remains relatively stable over this range. In the figure, we further notice that the Cuckoo filter is about 3 times faster than the counting Bloom filter \n",
    "over the entire range despite the significant increase in insertion throughput for the Cuckoo filter. While such differences are significant here, counting Bloom filters can be optimized to provide similar insertion speeds to Cuckoo filters. Here we seek to emphasize the significant change in insertion throughput that occurs as a Cuckoo filter fills up. "
   ]
  },
  {
   "cell_type": "markdown",
   "metadata": {},
   "source": [
    "<img src=\"./images/load_factor.png\">"
   ]
  },
  {
   "cell_type": "markdown",
   "metadata": {
    "collapsed": true
   },
   "source": [
    "## Conclusion\n",
    "\n",
    "Bloom filters and its variants have proven useful in streaming applications and others where membership testing is critical. In this post, we have shown how a Cuckoo filter, which can be implemented simply, provides better practical performance, under certain circumstances, out of the box and without tuning than counting Bloom filters. Ultimately, Cuckoo filters can serve as alternatives in scenarios where a counting Bloom filter would normally be used. "
   ]
  }
 ],
 "metadata": {
  "kernelspec": {
   "display_name": "Python 3",
   "language": "python",
   "name": "python3"
  },
  "language_info": {
   "codemirror_mode": {
    "name": "ipython",
    "version": 3
   },
   "file_extension": ".py",
   "mimetype": "text/x-python",
   "name": "python",
   "nbconvert_exporter": "python",
   "pygments_lexer": "ipython3",
   "version": "3.5.0b4"
  }
 },
 "nbformat": 4,
 "nbformat_minor": 0
}

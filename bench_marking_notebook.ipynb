{
 "cells": [
  {
   "cell_type": "code",
   "execution_count": 78,
   "metadata": {
    "collapsed": false
   },
   "outputs": [],
   "source": [
    "%matplotlib inline\n",
    "import numpy\n",
    "import matplotlib.pyplot as plt\n",
    "import seaborn\n",
    "import time\n",
    "import numpy as np\n",
    "\n",
    "from cuckoofilter import CuckooFilter\n",
    "from cuckoofilter import CountingBloomFilter"
   ]
  },
  {
   "cell_type": "code",
   "execution_count": null,
   "metadata": {
    "collapsed": false
   },
   "outputs": [],
   "source": []
  },
  {
   "cell_type": "code",
   "execution_count": 51,
   "metadata": {
    "collapsed": false
   },
   "outputs": [],
   "source": [
    "#initialize a cuckoo and bloom filter\n",
    "b_filter = CountingBloomFilter(cpty)"
   ]
  },
  {
   "cell_type": "code",
   "execution_count": null,
   "metadata": {
    "collapsed": false
   },
   "outputs": [],
   "source": []
  },
  {
   "cell_type": "code",
   "execution_count": 54,
   "metadata": {
    "collapsed": false
   },
   "outputs": [],
   "source": [
    "def insert_and_time_filter_cuckoo_filter(capacity, percent_fill=0.9):\n",
    "    num_inserted = 0\n",
    "    c_filter = CuckooFilter(capacity, 2)\n",
    "    now = time.time()\n",
    "    for i in range(int(percent_fill*capacity)):\n",
    "        try:\n",
    "            c_filter.insert(str(i))\n",
    "            num_inserted += 1\n",
    "        except:\n",
    "            break\n",
    "    elapsed = time.time() - now\n",
    "    return elapsed"
   ]
  },
  {
   "cell_type": "code",
   "execution_count": 68,
   "metadata": {
    "collapsed": false
   },
   "outputs": [
    {
     "data": {
      "text/plain": [
       "0.08478212356567383"
      ]
     },
     "execution_count": 68,
     "metadata": {},
     "output_type": "execute_result"
    }
   ],
   "source": [
    "insert_and_time_filter_cuckoo_filter(10000)"
   ]
  },
  {
   "cell_type": "code",
   "execution_count": 65,
   "metadata": {
    "collapsed": true
   },
   "outputs": [],
   "source": [
    "def insert_and_time_filter_bloom_filter(capacity, percent_fill=0.9):\n",
    "    num_inserted = 0\n",
    "    b_filter = CountingBloomFilter(capacity)\n",
    "    now = time.time()\n",
    "    for i in range(int(percent_fill*capacity)):\n",
    "        b_filter.add(str(i))\n",
    "    elapsed = time.time() - now\n",
    "    return elapsed"
   ]
  },
  {
   "cell_type": "code",
   "execution_count": 69,
   "metadata": {
    "collapsed": false
   },
   "outputs": [
    {
     "data": {
      "text/plain": [
       "0.6806850433349609"
      ]
     },
     "execution_count": 69,
     "metadata": {},
     "output_type": "execute_result"
    }
   ],
   "source": [
    "insert_and_time_filter_bloom_filter(10000)"
   ]
  },
  {
   "cell_type": "code",
   "execution_count": null,
   "metadata": {
    "collapsed": true
   },
   "outputs": [],
   "source": []
  },
  {
   "cell_type": "code",
   "execution_count": 71,
   "metadata": {
    "collapsed": true
   },
   "outputs": [],
   "source": [
    "item_sizes = [10000, 100000, 1000000]\n",
    "bloom_times = []\n",
    "cuckoo_times = []"
   ]
  },
  {
   "cell_type": "code",
   "execution_count": 73,
   "metadata": {
    "collapsed": false
   },
   "outputs": [],
   "source": [
    "for size in item_sizes:\n",
    "    bloom_times.append(insert_and_time_filter_bloom_filter(size))\n",
    "    cuckoo_times.append(insert_and_time_filter_cuckoo_filter(size))"
   ]
  },
  {
   "cell_type": "code",
   "execution_count": null,
   "metadata": {
    "collapsed": true
   },
   "outputs": [],
   "source": []
  },
  {
   "cell_type": "code",
   "execution_count": 99,
   "metadata": {
    "collapsed": false
   },
   "outputs": [
    {
     "data": {
      "text/plain": [
       "(-40, 1000)"
      ]
     },
     "execution_count": 99,
     "metadata": {},
     "output_type": "execute_result"
    },
    {
     "data": {
      "image/png": "[encoded data removed]",
      "text/plain": [
       "<matplotlib.figure.Figure at 0x1164e3198>"
      ]
     },
     "metadata": {},
     "output_type": "display_data"
    }
   ],
   "source": [
    "plt.semilogx(np.array(item_sizes), np.array(bloom_times), \"-ro\", ms=7, label=\"Counting bloom filter\")\n",
    "plt.semilogx(np.array(item_sizes), np.array(cuckoo_times), \"-go\", ms=7, label=\"Cuckoo filter\")\n",
    "plt.xlim([0, 11000000])\n",
    "plt.ylim([-40, 1000])\n",
    "plt.title()"
   ]
  },
  {
   "cell_type": "code",
   "execution_count": 80,
   "metadata": {
    "collapsed": false
   },
   "outputs": [
    {
     "data": {
      "text/plain": [
       "[0.742671012878418,\n",
       " 3.5515940189361572,\n",
       " 7.433334112167358,\n",
       " 14.224809885025024,\n",
       " 36.90250611305237,\n",
       " 60.467159032821655,\n",
       " 680.0932171344757]"
      ]
     },
     "execution_count": 80,
     "metadata": {},
     "output_type": "execute_result"
    }
   ],
   "source": [
    "bloom_times"
   ]
  },
  {
   "cell_type": "code",
   "execution_count": 81,
   "metadata": {
    "collapsed": false
   },
   "outputs": [
    {
     "data": {
      "text/plain": [
       "[0.07932496070861816,\n",
       " 0.36794590950012207,\n",
       " 0.8638038635253906,\n",
       " 1.4781010150909424,\n",
       " 3.4258201122283936,\n",
       " 7.467651844024658,\n",
       " 74.33099508285522]"
      ]
     },
     "execution_count": 81,
     "metadata": {},
     "output_type": "execute_result"
    }
   ],
   "source": [
    "cuckoo_times"
   ]
  },
  {
   "cell_type": "code",
   "execution_count": 82,
   "metadata": {
    "collapsed": false
   },
   "outputs": [
    {
     "data": {
      "text/plain": [
       "[10000, 50000, 100000, 200000, 500000, 1000000, 10000000]"
      ]
     },
     "execution_count": 82,
     "metadata": {},
     "output_type": "execute_result"
    }
   ],
   "source": [
    "item_sizes"
   ]
  },
  {
   "cell_type": "code",
   "execution_count": null,
   "metadata": {
    "collapsed": true
   },
   "outputs": [],
   "source": []
  },
  {
   "cell_type": "code",
   "execution_count": null,
   "metadata": {
    "collapsed": true
   },
   "outputs": [],
   "source": []
  }
 ],
 "metadata": {
  "kernelspec": {
   "display_name": "Python 3",
   "language": "python",
   "name": "python3"
  },
  "language_info": {
   "codemirror_mode": {
    "name": "ipython",
    "version": 3
   },
   "file_extension": ".py",
   "mimetype": "text/x-python",
   "name": "python",
   "nbconvert_exporter": "python",
   "pygments_lexer": "ipython3",
   "version": "3.5.0b4"
  }
 },
 "nbformat": 4,
 "nbformat_minor": 0
}
